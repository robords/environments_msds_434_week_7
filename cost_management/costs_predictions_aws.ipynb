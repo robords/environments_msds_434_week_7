{
 "cells": [
  {
   "cell_type": "code",
   "execution_count": 54,
   "id": "1e08d078",
   "metadata": {},
   "outputs": [],
   "source": [
    "import pandas as pd\n",
    "import boto3\n",
    "from datetime import datetime\n",
    "import subprocess"
   ]
  },
  {
   "cell_type": "markdown",
   "id": "2ad8adc4",
   "metadata": {},
   "source": [
    "# Cost Predictions on AWS\n",
    "\n",
    "https://boto3.amazonaws.com/v1/documentation/api/latest/reference/services/ce.html\n",
    "\n"
   ]
  },
  {
   "cell_type": "markdown",
   "id": "268dd49e",
   "metadata": {},
   "source": [
    "## Get the Cost Data from AWS and save it a CSV in S3"
   ]
  },
  {
   "cell_type": "code",
   "execution_count": 44,
   "id": "74429c2f",
   "metadata": {
    "scrolled": false
   },
   "outputs": [],
   "source": [
    "def get_cost_data_from_aws(start_date, end_date):\n",
    "    client = boto3.client('ce')\n",
    "    results = client.get_cost_and_usage(\n",
    "        TimePeriod={\n",
    "            'Start': start_date,\n",
    "            'End': datetime.now().strftime('%Y-%m-%d')\n",
    "            },\n",
    "            Granularity='DAILY',\n",
    "            Metrics=[\n",
    "                'UnblendedCost',\n",
    "            ],\n",
    "            GroupBy=[\n",
    "                {\n",
    "                    'Type': 'DIMENSION',\n",
    "                    'Key': 'SERVICE'\n",
    "                },\n",
    "            ]\n",
    "        )\n",
    "    return results\n",
    "\n",
    "def get_cost_data_to_pandas(start_date, end_date):\n",
    "    results = get_cost_data_from_aws(start_date, end_date)\n",
    "    \n",
    "    start_date_list = []\n",
    "    cost_list = []\n",
    "    service_list = []\n",
    "\n",
    "    for item in results['ResultsByTime']:\n",
    "        for i in item['Groups']:\n",
    "            start_date_list.append(item['TimePeriod']['Start'])\n",
    "        service_list = service_list + [i['Keys'][0] for i in item['Groups']]\n",
    "        cost_list = cost_list + [i['Metrics']['UnblendedCost']['Amount'] for i in item['Groups']]\n",
    "    df = pd.DataFrame(list(zip(start_date_list, cost_list, service_list)), \n",
    "                      columns =['start_date', 'costs', 'service'])\n",
    "    return df"
   ]
  },
  {
   "cell_type": "code",
   "execution_count": 47,
   "id": "85605352",
   "metadata": {},
   "outputs": [],
   "source": [
    "start_date = '2022-09-01'  ## This is the month that class started\n",
    "end_date = datetime.now().strftime('%Y-%m-%d')\n",
    "\n",
    "my_cost_data = get_cost_data_to_pandas(start_date, end_date)"
   ]
  },
  {
   "cell_type": "code",
   "execution_count": 60,
   "id": "b9cdf11f",
   "metadata": {},
   "outputs": [],
   "source": [
    "def save_to_s3(df, end_date):\n",
    "    '''\n",
    "    Upload the CSV to S3\n",
    "    '''\n",
    "    # save the df as a csv\n",
    "    csv = f'cost_data_to_{end_date}.csv'\n",
    "    df.to_csv(csv, index=False)\n",
    "    \n",
    "    # set up the session\n",
    "    client = boto3.client('s3')\n",
    "\n",
    "    # upload the file\n",
    "    bucket = 'cost-management-robords'\n",
    "    print(f'getting file from {csv}')\n",
    "    key = f'by_service/{csv}'\n",
    "    with open(csv, \"rb\") as f:\n",
    "        client.upload_fileobj(f, bucket, key)\n",
    "\n",
    "    # Remove the file from the local filesystem\n",
    "    command_to_run_rm = [\"rm\", csv]\n",
    "    output_rm = subprocess.check_output(command_to_run_rm).decode(\"utf-8\").strip()\n",
    "    print(output_rm)\n",
    "\n",
    "    print('File uploaded to S3')\n",
    "    \n",
    "    return bucket, key, csv"
   ]
  },
  {
   "cell_type": "code",
   "execution_count": 62,
   "id": "c538b626",
   "metadata": {},
   "outputs": [
    {
     "name": "stdout",
     "output_type": "stream",
     "text": [
      "getting file from cost_data_to_2022-11-07.csv\n",
      "\n",
      "File uploaded to S3\n"
     ]
    }
   ],
   "source": [
    "bucket, key, csv = save_to_s3(my_cost_data, end_date)"
   ]
  },
  {
   "cell_type": "markdown",
   "id": "64dd420e",
   "metadata": {},
   "source": [
    "# Forecast"
   ]
  },
  {
   "cell_type": "code",
   "execution_count": null,
   "id": "b80bbecd",
   "metadata": {},
   "outputs": [],
   "source": []
  }
 ],
 "metadata": {
  "kernelspec": {
   "display_name": "Python 3 (ipykernel)",
   "language": "python",
   "name": "python3"
  },
  "language_info": {
   "codemirror_mode": {
    "name": "ipython",
    "version": 3
   },
   "file_extension": ".py",
   "mimetype": "text/x-python",
   "name": "python",
   "nbconvert_exporter": "python",
   "pygments_lexer": "ipython3",
   "version": "3.7.9"
  }
 },
 "nbformat": 4,
 "nbformat_minor": 5
}
