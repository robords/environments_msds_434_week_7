{
 "cells": [
  {
   "cell_type": "code",
   "execution_count": 119,
   "id": "7c2b5728",
   "metadata": {},
   "outputs": [],
   "source": [
    "import pandas as pd\n",
    "import boto3\n",
    "import datetime\n",
    "from collections import defaultdict\n",
    "from io import StringIO"
   ]
  },
  {
   "cell_type": "code",
   "execution_count": 96,
   "id": "503a07ef",
   "metadata": {},
   "outputs": [],
   "source": [
    "def get_most_recent_date_from_s3():\n",
    "    '''\n",
    "    Here, we get the most recent file from s3, and then get the date from it\n",
    "    '''\n",
    "    # Here's the URIs\n",
    "    bucket = 'raw-weather-data'\n",
    "    path_names = ['SNOW', 'PRCP', 'SNWD', 'TMAX', 'TMIN']\n",
    "    \n",
    "    current_year = datetime.datetime.now().year\n",
    "    s3 = boto3.client('s3')\n",
    "    response = s3.list_objects_v2(\n",
    "            Bucket=bucket,\n",
    "            Prefix=path_names[0] # this is somewhat arbitrary, but we just need to pick a path\n",
    "        )\n",
    "\n",
    "    for item in path_names:\n",
    "        key = [i['Key'] for i in response['Contents'] if str(current_year) in\n",
    "              i['Key']][0]\n",
    "        \n",
    "    response = s3.get_object(Bucket=bucket, Key=key)\n",
    "    most_recent_df = pd.read_csv(response.get(\"Body\"))\n",
    "    most_recent_date_available = most_recent_df['date-'].max()\n",
    "\n",
    "    return most_recent_date_available"
   ]
  },
  {
   "cell_type": "code",
   "execution_count": 130,
   "id": "370ca40b",
   "metadata": {},
   "outputs": [],
   "source": [
    "def get_and_put_data_from_noaa():\n",
    "    '''\n",
    "    The NOAA data is organized into yearly files, so all I need to do is overwrite the file\n",
    "    for the year where we're trying to fill in the gaps\n",
    "    http://noaa-ghcn-pds.s3.amazonaws.com/csv/1788.csv\n",
    "    '''\n",
    "    bucket = 'noaa-ghcn-pds'\n",
    "    path_name = 'csv.gz'\n",
    "    \n",
    "    current_year = datetime.datetime.now().year\n",
    "    s3 = boto3.client('s3')\n",
    "    response = s3.list_objects_v2(\n",
    "            Bucket=bucket,\n",
    "            Prefix=path_name \n",
    "        )\n",
    "\n",
    "    key = [i['Key']  for i in response['Contents'] if f'/{str(current_year)}.csv.gz' in i['Key']]\n",
    "    response = s3.get_object(Bucket=bucket, Key=key[0])\n",
    "    most_recent_df = pd.read_csv(response.get(\"Body\"), compression='gzip', \n",
    "                                 names=['id','date-','element','r-eported_value',\n",
    "                                        'M-FLAG','Q-FLAG','S-FLAG','OBS-TIME'])\n",
    "    \n",
    "    # filter out the columns with bad data\n",
    "    most_recent_df =  most_recent_df[~(most_recent_df['Q-FLAG'].isnull())]\n",
    "    # combine the file with the stations file to get the states\n",
    "    stations = pd.read_csv('./weather/stations.csv')\n",
    "    most_recent_df = most_recent_df.merge(stations, left_on='id', right_on='id')\n",
    "    most_recent_df.rename(columns={\"state\": 'location'}, inplace=True)\n",
    "    # create a separate file for each value in the third column\n",
    "    df_dict = defaultdict(dict)\n",
    "    elements = ['PRCP','SNOW','SNWD','TMAX','TMIN']\n",
    "    for i in elements:\n",
    "        # filter the dataframe for just the records with that element\n",
    "        df = most_recent_df[(most_recent_df.element == i)]\n",
    "        # select only the columns we need:\n",
    "        df = df[['date-', 'r-eported_value', 'location']]\n",
    "        # update the date field so it's got dashes\n",
    "        df['date-'] = pd.to_datetime(df['date-'], format='%Y%m%d') \n",
    "        df['date-'] = df['date-'].dt.strftime('%Y-%m-%d')\n",
    "        # add them to a dict of dataframes\n",
    "        df_dict[i] = df\n",
    "        \n",
    "        # write it directly to s3\n",
    "        bucket = 'raw-weather-data'\n",
    "        csv_buffer = StringIO()\n",
    "        df.to_csv(csv_buffer, index=False)\n",
    "        s3_resource = boto3.resource('s3')\n",
    "        s3_resource.Object(bucket, f'{i}/{current_year}.csv').put(Body=csv_buffer.getvalue())"
   ]
  },
  {
   "cell_type": "code",
   "execution_count": 131,
   "id": "b24e6dfe",
   "metadata": {
    "scrolled": true
   },
   "outputs": [],
   "source": [
    "get_and_put_data_from_noaa()"
   ]
  },
  {
   "cell_type": "code",
   "execution_count": null,
   "id": "1c3c2c63",
   "metadata": {},
   "outputs": [],
   "source": []
  },
  {
   "cell_type": "code",
   "execution_count": null,
   "id": "6be434ef",
   "metadata": {},
   "outputs": [],
   "source": []
  }
 ],
 "metadata": {
  "kernelspec": {
   "display_name": "Python 3 (ipykernel)",
   "language": "python",
   "name": "python3"
  },
  "language_info": {
   "codemirror_mode": {
    "name": "ipython",
    "version": 3
   },
   "file_extension": ".py",
   "mimetype": "text/x-python",
   "name": "python",
   "nbconvert_exporter": "python",
   "pygments_lexer": "ipython3",
   "version": "3.7.9"
  }
 },
 "nbformat": 4,
 "nbformat_minor": 5
}
