{
 "cells": [
  {
   "cell_type": "code",
   "execution_count": 4,
   "id": "c94af97f",
   "metadata": {},
   "outputs": [],
   "source": [
    "import pandas as pd\n",
    "import boto3\n",
    "import datetime"
   ]
  },
  {
   "cell_type": "code",
   "execution_count": 52,
   "id": "c21c3bf8",
   "metadata": {},
   "outputs": [],
   "source": [
    "\n",
    "    \n",
    "def get_most_recent_date_from_s3():\n",
    "    '''\n",
    "    Here, we get the most recent file from s3, and then get the date from it\n",
    "    '''\n",
    "    # Here's the URIs\n",
    "    bucket = 'raw-weather-data'\n",
    "    path_names = ['SNOW', 'PRCP', 'SNWD', 'TMAX', 'TMIN']\n",
    "    \n",
    "    current_year = datetime.datetime.now().year\n",
    "    s3 = boto3.client('s3')\n",
    "    response = s3.list_objects_v2(\n",
    "            Bucket=bucket,\n",
    "            Prefix=path_names[0] # this is somewhat arbitrary, but we just need to pick a path\n",
    "        )\n",
    "\n",
    "    for item in path_names:\n",
    "\n",
    "        key = [i['Key'] for i in response['Contents'] if str(current_year) in\n",
    "              i['Key']][0]\n",
    "        \n",
    "    response = s3.get_object(Bucket=bucket, Key=key)\n",
    "    most_recent_df = pd.read_csv(response.get(\"Body\"))\n",
    "    most_recent_date_available = most_recent_df['date-'].max()\n",
    "\n",
    "    return most_recent_date_available"
   ]
  },
  {
   "cell_type": "code",
   "execution_count": 53,
   "id": "6bce94f1",
   "metadata": {},
   "outputs": [],
   "source": [
    "most_recent_date_in_s3 = get_most_recent_date_from_s3()"
   ]
  },
  {
   "cell_type": "code",
   "execution_count": 54,
   "id": "f0490ac6",
   "metadata": {},
   "outputs": [
    {
     "data": {
      "text/plain": [
       "'2022-09-07'"
      ]
     },
     "execution_count": 54,
     "metadata": {},
     "output_type": "execute_result"
    }
   ],
   "source": [
    "most_recent_date_in_s3"
   ]
  },
  {
   "cell_type": "code",
   "execution_count": null,
   "id": "adccb81b",
   "metadata": {},
   "outputs": [],
   "source": []
  }
 ],
 "metadata": {
  "kernelspec": {
   "display_name": "Python 3 (ipykernel)",
   "language": "python",
   "name": "python3"
  },
  "language_info": {
   "codemirror_mode": {
    "name": "ipython",
    "version": 3
   },
   "file_extension": ".py",
   "mimetype": "text/x-python",
   "name": "python",
   "nbconvert_exporter": "python",
   "pygments_lexer": "ipython3",
   "version": "3.7.9"
  }
 },
 "nbformat": 4,
 "nbformat_minor": 5
}
