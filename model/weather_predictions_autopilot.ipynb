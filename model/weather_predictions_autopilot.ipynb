{
 "cells": [
  {
   "cell_type": "markdown",
   "id": "9d84daf3-8c3f-4478-af58-c051dee7f3ce",
   "metadata": {},
   "source": [
    "# Weather Predictions on AWS Autopilot with NOAA Data\n",
    "\n",
    "https://docs.opendata.aws/noaa-ghcn-pds/readme.html\n",
    "\n",
    "Get the data from public S3 and copy it to my new bucket"
   ]
  },
  {
   "cell_type": "code",
   "execution_count": 8,
   "id": "ed7ab519-49ab-4f48-a268-311e08676008",
   "metadata": {},
   "outputs": [
    {
     "name": "stdout",
     "output_type": "stream",
     "text": [
      "download: s3://noaa-ghcn-pds/ghcnd-stations.txt to weather/ghcnd-stations.txt\n",
      "upload: weather/stations.csv to s3://raw-weather-data/ghcnd-stations.csv\n"
     ]
    }
   ],
   "source": [
    "%%bash\n",
    "\n",
    "# get and cleanup the stations file\n",
    "aws s3 cp s3://noaa-ghcn-pds/ghcnd-stations.txt ./weather/ghcnd-stations.txt \n",
    "python3 stations_cleanup.py\n",
    "\n",
    "# upload it\n",
    "aws s3 cp ./weather/stations.csv s3://raw-weather-data/ghcnd-stations.csv\n",
    "\n",
    "# Clean up the temp files and directory\n",
    "rm ./weather/stations.csv ./weather/ghcnd-stations.txt "
   ]
  },
  {
   "cell_type": "code",
   "execution_count": 19,
   "id": "b1ff86b3-2e3a-4543-880c-840ae6e3ae03",
   "metadata": {},
   "outputs": [
    {
     "name": "stdout",
     "output_type": "stream",
     "text": [
      "download: s3://noaa-ghcn-pds/csv.gz/2019.csv.gz to weather/2019.csv.gz\n",
      "download: s3://noaa-ghcn-pds/csv.gz/2020.csv.gz to weather/2020.csv.gz\n"
     ]
    }
   ],
   "source": [
    "%%bash\n",
    "\n",
    "for VARIABLE in 2019 2020; do\n",
    "    # Get the file\n",
    "    aws s3 cp s3://noaa-ghcn-pds/csv.gz/\"$VARIABLE\".csv.gz ./weather/\"$VARIABLE\".csv.gz\n",
    "    # Decompress the zip file into a temp directory\n",
    "    gzip -d ./weather/\"$VARIABLE\".csv.gz\n",
    "    # Add headers\n",
    "    { echo 'id,date,element,value,M-FLAG,Q-FLAG,S-FLAG,OBS-TIME'; cat ./weather/\"$VARIABLE\".csv; } > ./weather/\"$VARIABLE\"_with_headers.csv\n",
    "    # filter out the columns with bad data\n",
    "    awk -F '\",\"'  'BEGIN {OFS=\",\"} { if ((toupper($6) == \"\"))  print }' ./weather/\"$VARIABLE\"_with_headers.csv > ./weather/\"$VARIABLE\"_filtered.csv\n",
    "    # Sync up the contents of the temp directory to S3 prefix\n",
    "    #aws s3 cp ./weather/\"$VARIABLE\"_filtered.csv s3://raw-weather-data/\"$VARIABLE\".csv\n",
    "    # Clean up the temp files and directory\n",
    "    rm ./weather/\"$VARIABLE\"_with_headers.csv\n",
    "done"
   ]
  },
  {
   "cell_type": "code",
   "execution_count": 20,
   "id": "63a7e54b-4bad-4ee5-8a30-daa2e17b74cd",
   "metadata": {},
   "outputs": [],
   "source": [
    "import pandas as pd\n",
    "#awk -F '\",\"'  'BEGIN {OFS=\",\"} { if (toupper($6) == \"NaN\" && $3 ~ /^WT/)  print }' ./weather/2022_with_headers.csv > ./weather/2022_with_headers_filtered.csv\n",
    "_2020 = pd.read_csv('./weather/2020_filtered.csv', nrows=10000)"
   ]
  },
  {
   "cell_type": "code",
   "execution_count": 21,
   "id": "26ee03ee-b29a-4722-94aa-7271532be117",
   "metadata": {},
   "outputs": [
    {
     "data": {
      "text/html": [
       "<div>\n",
       "<style scoped>\n",
       "    .dataframe tbody tr th:only-of-type {\n",
       "        vertical-align: middle;\n",
       "    }\n",
       "\n",
       "    .dataframe tbody tr th {\n",
       "        vertical-align: top;\n",
       "    }\n",
       "\n",
       "    .dataframe thead th {\n",
       "        text-align: right;\n",
       "    }\n",
       "</style>\n",
       "<table border=\"1\" class=\"dataframe\">\n",
       "  <thead>\n",
       "    <tr style=\"text-align: right;\">\n",
       "      <th></th>\n",
       "      <th>id</th>\n",
       "      <th>date</th>\n",
       "      <th>element</th>\n",
       "      <th>value</th>\n",
       "      <th>M-FLAG</th>\n",
       "      <th>Q-FLAG</th>\n",
       "      <th>S-FLAG</th>\n",
       "      <th>OBS-TIME</th>\n",
       "    </tr>\n",
       "  </thead>\n",
       "  <tbody>\n",
       "    <tr>\n",
       "      <th>0</th>\n",
       "      <td>AE000041196</td>\n",
       "      <td>20200101</td>\n",
       "      <td>TMIN</td>\n",
       "      <td>168</td>\n",
       "      <td>NaN</td>\n",
       "      <td>NaN</td>\n",
       "      <td>S</td>\n",
       "      <td>NaN</td>\n",
       "    </tr>\n",
       "    <tr>\n",
       "      <th>1</th>\n",
       "      <td>AE000041196</td>\n",
       "      <td>20200101</td>\n",
       "      <td>PRCP</td>\n",
       "      <td>0</td>\n",
       "      <td>D</td>\n",
       "      <td>NaN</td>\n",
       "      <td>S</td>\n",
       "      <td>NaN</td>\n",
       "    </tr>\n",
       "    <tr>\n",
       "      <th>2</th>\n",
       "      <td>AE000041196</td>\n",
       "      <td>20200101</td>\n",
       "      <td>TAVG</td>\n",
       "      <td>211</td>\n",
       "      <td>H</td>\n",
       "      <td>NaN</td>\n",
       "      <td>S</td>\n",
       "      <td>NaN</td>\n",
       "    </tr>\n",
       "    <tr>\n",
       "      <th>3</th>\n",
       "      <td>AEM00041194</td>\n",
       "      <td>20200101</td>\n",
       "      <td>PRCP</td>\n",
       "      <td>0</td>\n",
       "      <td>NaN</td>\n",
       "      <td>NaN</td>\n",
       "      <td>S</td>\n",
       "      <td>NaN</td>\n",
       "    </tr>\n",
       "    <tr>\n",
       "      <th>4</th>\n",
       "      <td>AEM00041194</td>\n",
       "      <td>20200101</td>\n",
       "      <td>TAVG</td>\n",
       "      <td>217</td>\n",
       "      <td>H</td>\n",
       "      <td>NaN</td>\n",
       "      <td>S</td>\n",
       "      <td>NaN</td>\n",
       "    </tr>\n",
       "  </tbody>\n",
       "</table>\n",
       "</div>"
      ],
      "text/plain": [
       "            id      date element  value M-FLAG Q-FLAG S-FLAG  OBS-TIME\n",
       "0  AE000041196  20200101    TMIN    168    NaN    NaN      S       NaN\n",
       "1  AE000041196  20200101    PRCP      0      D    NaN      S       NaN\n",
       "2  AE000041196  20200101    TAVG    211      H    NaN      S       NaN\n",
       "3  AEM00041194  20200101    PRCP      0    NaN    NaN      S       NaN\n",
       "4  AEM00041194  20200101    TAVG    217      H    NaN      S       NaN"
      ]
     },
     "execution_count": 21,
     "metadata": {},
     "output_type": "execute_result"
    }
   ],
   "source": [
    "_2020.head()"
   ]
  },
  {
   "cell_type": "code",
   "execution_count": 18,
   "id": "d86cf788-ce94-43e1-a62b-870e321717b9",
   "metadata": {},
   "outputs": [
    {
     "data": {
      "text/plain": [
       "PRCP    5036\n",
       "TMIN    1446\n",
       "TMAX    1364\n",
       "TAVG    1119\n",
       "SNWD     418\n",
       "SNOW     206\n",
       "WDFG     174\n",
       "WSFG     174\n",
       "DATX      19\n",
       "MDTX      19\n",
       "DATN       5\n",
       "MDTN       5\n",
       "MDPR       2\n",
       "DAPR       2\n",
       "ADPT       1\n",
       "ASLP       1\n",
       "ASTP       1\n",
       "DWPR       1\n",
       "AWND       1\n",
       "RHAV       1\n",
       "WSF2       1\n",
       "AWBT       1\n",
       "RHMX       1\n",
       "RHMN       1\n",
       "WDF2       1\n",
       "Name:  element, dtype: int64"
      ]
     },
     "execution_count": 18,
     "metadata": {},
     "output_type": "execute_result"
    }
   ],
   "source": [
    "_2020[' element'].value_counts()"
   ]
  },
  {
   "cell_type": "code",
   "execution_count": null,
   "id": "7d4826e7-46f8-4e09-bfa2-4ace95dcf22e",
   "metadata": {},
   "outputs": [],
   "source": []
  },
  {
   "cell_type": "code",
   "execution_count": null,
   "id": "84a2023a-79cf-4565-b912-dd6f26ea9f20",
   "metadata": {},
   "outputs": [],
   "source": [
    "%%bash \n",
    "{\n",
    "  echo \"id, state, Tmax, Date, Tmin1, Tmax1\"\n",
    "  join -t, <(sort ./weather/2022.csv) <(sed 1d ./weather/stations.csv | sort)\n",
    "} > ./weather/combined.csv"
   ]
  },
  {
   "cell_type": "code",
   "execution_count": null,
   "id": "85804308-4e9a-485c-af82-cede8d9b5582",
   "metadata": {},
   "outputs": [],
   "source": [
    "import sagemaker\n",
    "\n",
    "prefix = 'sagemaker/weather-predictions/input'\n",
    "sess   = sagemaker.Session()\n",
    "\n",
    "uri = sess.upload_data(path=\"./weather/2022.csv\", key_prefix=prefix)\n",
    "print(uri)"
   ]
  }
 ],
 "metadata": {
  "instance_type": "ml.t3.medium",
  "kernelspec": {
   "display_name": "Python 3 (Data Science)",
   "language": "python",
   "name": "python3__SAGEMAKER_INTERNAL__arn:aws:sagemaker:us-east-1:081325390199:image/datascience-1.0"
  },
  "language_info": {
   "codemirror_mode": {
    "name": "ipython",
    "version": 3
   },
   "file_extension": ".py",
   "mimetype": "text/x-python",
   "name": "python",
   "nbconvert_exporter": "python",
   "pygments_lexer": "ipython3",
   "version": "3.7.10"
  }
 },
 "nbformat": 4,
 "nbformat_minor": 5
}
